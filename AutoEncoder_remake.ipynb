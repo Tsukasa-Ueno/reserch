{
 "cells": [
  {
   "cell_type": "code",
   "execution_count": 338,
   "metadata": {},
   "outputs": [],
   "source": [
    "from keras.layers import Input, Dense, InputLayer\n",
    "from keras.models import Model, Sequential, load_model\n",
    "from keras.datasets import mnist\n",
    "from keras import optimizers, initializers\n",
    "from keras.utils import to_categorical\n",
    "from keras import regularizers\n",
    "import numpy as np\n",
    "import pandas as pd\n",
    "import math\n",
    "import matplotlib.pyplot as plt"
   ]
  },
  {
   "cell_type": "code",
   "execution_count": 339,
   "metadata": {},
   "outputs": [],
   "source": [
    "# for Decision Tree\n",
    "from sklearn import tree\n",
    "from sklearn.metrics import accuracy_score"
   ]
  },
  {
   "cell_type": "code",
   "execution_count": 340,
   "metadata": {},
   "outputs": [],
   "source": [
    "import sys, os\n",
    "sys.path.append(os.pardir) \n",
    "import h5py # for model file"
   ]
  },
  {
   "cell_type": "code",
   "execution_count": 341,
   "metadata": {},
   "outputs": [],
   "source": [
    "df = pd.read_csv(\"../dataset/\" + \"australian\" + \"_m0s1.csv\", header=None)"
   ]
  },
  {
   "cell_type": "code",
   "execution_count": 342,
   "metadata": {},
   "outputs": [
    {
     "name": "stdout",
     "output_type": "stream",
     "text": [
      "2\n"
     ]
    }
   ],
   "source": [
    "k = 0\n",
    "K = 10\n",
    "features_length = len(df.columns) - 1\n",
    "block_size = math.floor(len(df.index) / K)  # test data size for one validation\n",
    "num_class = max(df.iloc[:, 0]) + 1\n",
    "print(num_class)\n",
    "\n",
    "dataset = df\n",
    "test_range = range(k * block_size, (k + 1) * block_size) # e.g. iris 0~14, 15~29 ...\n",
    "test = dataset[test_range[0]:test_range[-1] + 1]\n",
    "dataset = dataset.drop(test_range)\n",
    "train = dataset"
   ]
  },
  {
   "cell_type": "code",
   "execution_count": 343,
   "metadata": {},
   "outputs": [],
   "source": [
    "x_train = train.iloc[:, 1:]\n",
    "y_train = train.iloc[:, 0] \n",
    "x_test = test.iloc[:, 1:]\n",
    "y_test = test.iloc[:, 0]  \n",
    "\n",
    "#print(y_train)\n",
    "\n",
    "y_train = to_categorical(y_train, num_class)\n",
    "y_test = to_categorical(y_test, num_class)\n",
    "\n",
    "x_train = np.array(x_train)\n",
    "y_train = np.array(y_train)\n",
    "x_test = np.array(x_test)\n",
    "y_test = np.array(y_test)"
   ]
  },
  {
   "cell_type": "code",
   "execution_count": 344,
   "metadata": {},
   "outputs": [],
   "source": [
    "model_dir = \"./model_AE/\"\n",
    "if not os.path.exists(model_dir):\n",
    "    os.makedirs(model_dir, exist_ok=True)"
   ]
  },
  {
   "cell_type": "code",
   "execution_count": 359,
   "metadata": {},
   "outputs": [
    {
     "name": "stdout",
     "output_type": "stream",
     "text": [
      "_________________________________________________________________\n",
      "Layer (type)                 Output Shape              Param #   \n",
      "=================================================================\n",
      "input_41 (InputLayer)        (None, 14)                0         \n",
      "_________________________________________________________________\n",
      "encoded1 (Dense)             (None, 100)               1500      \n",
      "_________________________________________________________________\n",
      "decoded (Dense)              (None, 14)                1414      \n",
      "=================================================================\n",
      "Total params: 2,914\n",
      "Trainable params: 2,914\n",
      "Non-trainable params: 0\n",
      "_________________________________________________________________\n",
      "[9.803951386284329, 0.4830917876795678]\n",
      "[9.803951386284329, 0.4830917876795678]\n"
     ]
    }
   ],
   "source": [
    "#encoding_dim = 64\n",
    "#encoding_dim = math.floor(features_length / 2)\n",
    "#encoding_dim = features_length + 2\n",
    "encoding_dim = 100\n",
    "\n",
    "autoencoder1 = Sequential()\n",
    "autoencoder1.add(InputLayer(input_shape=(features_length,)))\n",
    "autoencoder1.add(Dense(encoding_dim, activation='relu',\\\n",
    "               activity_regularizer=regularizers.l1(1e-2),\\\n",
    "               kernel_initializer='he_uniform', name='encoded1'\n",
    "               ))\n",
    "autoencoder1.add(Dense(features_length, activation='sigmoid', name='decoded'))\n",
    "                \n",
    "autoencoder1.compile(optimizer='adam', loss='mean_squared_error', metrics=[\"acc\"])\n",
    "autoencoder1.summary()\n",
    "autoencoder1.fit(x_train, x_train,\\\n",
    "                epochs=100,\\\n",
    "                batch_size=256,\\\n",
    "                shuffle=True,\\\n",
    "                #validation_data=(x_test, x_test),\\\n",
    "                validation_split=0.1,\\\n",
    "                verbose=0)\n",
    "result_train = autoencoder1.evaluate(x_train, x_train, batch_size=32,verbose=0)\n",
    "result_test = autoencoder1.evaluate(x_train, x_train, batch_size=32,verbose=0)\n",
    "print(result_train)\n",
    "print(result_test)\n",
    "\n",
    "model_name = str(model_dir) + \"/encoder1.h5\"\n",
    "autoencoder1.save(model_name)\n",
    "\n",
    "model_weights = str(model_dir) + \"/encoder1_weights.h5\"\n",
    "autoencoder1.save_weights(model_weights)"
   ]
  },
  {
   "cell_type": "code",
   "execution_count": 360,
   "metadata": {},
   "outputs": [
    {
     "name": "stderr",
     "output_type": "stream",
     "text": [
      "/usr/local/lib/python3.6/site-packages/ipykernel_launcher.py:1: UserWarning: Update your `Model` call to the Keras 2 API: `Model(inputs=Tensor(\"in..., outputs=Tensor(\"en...)`\n",
      "  \"\"\"Entry point for launching an IPython kernel.\n"
     ]
    },
    {
     "name": "stdout",
     "output_type": "stream",
     "text": [
      "encoded1 data mean:  0.21419851\n"
     ]
    }
   ],
   "source": [
    "encoder1 = Model(input=autoencoder1.input, output=autoencoder1.get_layer('encoded1').output)\n",
    "encoded_data1 = encoder1.predict(x_test)\n",
    "\n",
    "#print(encoded_data1)\n",
    "print(\"encoded1 data mean: \", encoded_data1.mean())\n",
    "\n",
    "encoded1_train = encoder1.predict(x_train)\n",
    "encoded1_test = encoder1.predict(x_test)"
   ]
  },
  {
   "cell_type": "code",
   "execution_count": 391,
   "metadata": {},
   "outputs": [
    {
     "name": "stdout",
     "output_type": "stream",
     "text": [
      "_________________________________________________________________\n",
      "Layer (type)                 Output Shape              Param #   \n",
      "=================================================================\n",
      "encoded2 (Dense)             (None, 100)               10100     \n",
      "_________________________________________________________________\n",
      "decoded2 (Dense)             (None, 100)               10100     \n",
      "=================================================================\n",
      "Total params: 20,200\n",
      "Trainable params: 20,200\n",
      "Non-trainable params: 0\n",
      "_________________________________________________________________\n",
      "[0.32238792782820364, 0.0821256038647343]\n",
      "[0.24824014651602594, 0.10144927579423656]\n"
     ]
    }
   ],
   "source": [
    "encoding_dim2 = encoding_dim\n",
    "\n",
    "autoencoder2 = Sequential()\n",
    "autoencoder2.add(Dense(encoding_dim2, input_dim=encoding_dim, activation='relu',\\\n",
    "               activity_regularizer=regularizers.l1(1e-2), \\\n",
    "               kernel_initializer='he_uniform', name='encoded2'\n",
    "               ))\n",
    "autoencoder2.add(Dense(encoding_dim, activation='sigmoid', name='decoded2'))\n",
    "\n",
    "autoencoder2.compile(optimizer='adam', loss='mean_squared_error', metrics=[\"acc\"])\n",
    "autoencoder2.summary()\n",
    "autoencoder2.fit(encoded1_train, encoded1_train,\\\n",
    "               epochs=100,\\\n",
    "               batch_size=256,\\\n",
    "               shuffle=True,\\\n",
    "               #validation_data=(encoded1_test, encoded1_test),\\\n",
    "               validation_split=0.1,\\\n",
    "               verbose=0)\n",
    "result_train = autoencoder2.evaluate(encoded1_train, encoded1_train, batch_size=32,verbose=0)\n",
    "result_test = autoencoder2.evaluate(encoded1_test, encoded1_test, batch_size=32,verbose=0)\n",
    "print(result_train)\n",
    "print(result_test)\n",
    "\n",
    "model_name2 = str(model_dir) + \"/encoder2.h5\"\n",
    "autoencoder2.save(model_name2)\n",
    "\n",
    "model_weights2 = str(model_dir) + \"/encoder2_weights.h5\"\n",
    "autoencoder2.save_weights(model_weights2)"
   ]
  },
  {
   "cell_type": "code",
   "execution_count": 392,
   "metadata": {},
   "outputs": [
    {
     "name": "stderr",
     "output_type": "stream",
     "text": [
      "/usr/local/lib/python3.6/site-packages/ipykernel_launcher.py:1: UserWarning: Update your `Model` call to the Keras 2 API: `Model(inputs=Tensor(\"en..., outputs=Tensor(\"en...)`\n",
      "  \"\"\"Entry point for launching an IPython kernel.\n"
     ]
    },
    {
     "name": "stdout",
     "output_type": "stream",
     "text": [
      "encoded2 data mean:  0.00019092948\n"
     ]
    }
   ],
   "source": [
    "encoder2 = Model(input=autoencoder2.input, output=autoencoder2.get_layer('encoded2').output)\n",
    "encoded_data2 = encoder2.predict(encoded1_test)\n",
    "\n",
    "#print(encoded_data2)\n",
    "print(\"encoded2 data mean: \", encoded_data2.mean())\n",
    "\n",
    "encoded2_train = encoder2.predict(encoded1_train)\n",
    "encoded2_test = encoder2.predict(encoded1_test)"
   ]
  },
  {
   "cell_type": "code",
   "execution_count": 410,
   "metadata": {},
   "outputs": [
    {
     "name": "stdout",
     "output_type": "stream",
     "text": [
      "_________________________________________________________________\n",
      "Layer (type)                 Output Shape              Param #   \n",
      "=================================================================\n",
      "encoded3 (Dense)             (None, 100)               10100     \n",
      "_________________________________________________________________\n",
      "decoded3 (Dense)             (None, 100)               10100     \n",
      "=================================================================\n",
      "Total params: 20,200\n",
      "Trainable params: 20,200\n",
      "Non-trainable params: 0\n",
      "_________________________________________________________________\n",
      "[0.22955718703699957, 0.001610305958132045]\n",
      "[0.23102852961291437, 0.0]\n"
     ]
    }
   ],
   "source": [
    "encoding_dim3 = encoding_dim2\n",
    "\n",
    "autoencoder3 = Sequential()\n",
    "autoencoder3.add(Dense(encoding_dim3, input_dim=encoding_dim2, activation='relu',\\\n",
    "               activity_regularizer=regularizers.l1(1e-2), \\\n",
    "               kernel_initializer='he_uniform', name='encoded3'\n",
    "               ))\n",
    "autoencoder3.add(Dense(encoding_dim2, activation='sigmoid', name='decoded3'))\n",
    "\n",
    "autoencoder3.compile(optimizer='adam', loss='mean_squared_error', metrics=[\"acc\"])\n",
    "autoencoder3.summary()\n",
    "autoencoder3.fit(encoded2_train, encoded2_train,\\\n",
    "               epochs=30,\\\n",
    "               batch_size=256,\\\n",
    "               shuffle=True,\\\n",
    "               #validation_data=(encoded2_test, encoded2_test),\\\n",
    "               validation_split=0.1,\\\n",
    "               verbose=0)\n",
    "result_train = autoencoder3.evaluate(encoded2_train, encoded2_train, batch_size=32,verbose=0)\n",
    "result_test = autoencoder3.evaluate(encoded2_test, encoded2_test, batch_size=32,verbose=0)\n",
    "print(result_train)\n",
    "print(result_test)\n",
    "\n",
    "model_name3 = str(model_dir) + \"/encoder3.h5\"\n",
    "autoencoder3.save(model_name3)\n",
    "\n",
    "model_weights3 = str(model_dir) + \"/encoder3_weights.h5\"\n",
    "autoencoder3.save_weights(model_weights3)"
   ]
  },
  {
   "cell_type": "code",
   "execution_count": 411,
   "metadata": {},
   "outputs": [
    {
     "name": "stderr",
     "output_type": "stream",
     "text": [
      "/usr/local/lib/python3.6/site-packages/ipykernel_launcher.py:1: UserWarning: Update your `Model` call to the Keras 2 API: `Model(inputs=Tensor(\"en..., outputs=Tensor(\"en...)`\n",
      "  \"\"\"Entry point for launching an IPython kernel.\n"
     ]
    },
    {
     "name": "stdout",
     "output_type": "stream",
     "text": [
      "encoded3 data mean:  0.00010525614\n"
     ]
    }
   ],
   "source": [
    "encoder3 = Model(input=autoencoder3.input, output=autoencoder3.get_layer('encoded3').output)\n",
    "encoded_data3 = encoder3.predict(encoded2_test)\n",
    "\n",
    "#print(encoded_data3)\n",
    "print(\"encoded3 data mean: \", encoded_data3.mean())\n",
    "\n",
    "encoded3_train = encoder3.predict(encoded2_train)\n",
    "encoded3_test = encoder3.predict(encoded2_test)"
   ]
  },
  {
   "cell_type": "code",
   "execution_count": 412,
   "metadata": {},
   "outputs": [
    {
     "name": "stdout",
     "output_type": "stream",
     "text": [
      "_________________________________________________________________\n",
      "Layer (type)                 Output Shape              Param #   \n",
      "=================================================================\n",
      "input_49 (InputLayer)        (None, 14)                0         \n",
      "_________________________________________________________________\n",
      "encoded1 (Dense)             (None, 100)               1500      \n",
      "_________________________________________________________________\n",
      "encoded2 (Dense)             (None, 100)               10100     \n",
      "_________________________________________________________________\n",
      "encoded3 (Dense)             (None, 100)               10100     \n",
      "_________________________________________________________________\n",
      "decoded_main (Dense)         (None, 2)                 202       \n",
      "=================================================================\n",
      "Total params: 21,902\n",
      "Trainable params: 21,902\n",
      "Non-trainable params: 0\n",
      "_________________________________________________________________\n",
      "[0.16391236230659023, 0.9677938809333408]\n",
      "[1.2322082435307296, 0.8840579710144928]\n"
     ]
    }
   ],
   "source": [
    "autoencoder_main = Sequential()\n",
    "autoencoder_main.add(InputLayer(input_shape=(features_length,)))\n",
    "autoencoder_main.add(Dense(encoding_dim, activation='relu', name='encoded1'))\n",
    "autoencoder_main.add(Dense(encoding_dim2, activation='relu', name='encoded2'))\n",
    "autoencoder_main.add(Dense(encoding_dim3, activation='relu', name='encoded3'))\n",
    "\n",
    "autoencoder_main.add(Dense(num_class, activation='softmax', name='decoded_main'))\n",
    "autoencoder_main.load_weights(model_weights, by_name=True)\n",
    "autoencoder_main.load_weights(model_weights2, by_name=True)\n",
    "autoencoder_main.load_weights(model_weights3, by_name=True)\n",
    "\n",
    "#autoencoder_main.layers[1].trainable = False\n",
    "#autoencoder_main.layers[2].trainable = False\n",
    "\n",
    "autoencoder_main.compile(optimizer='adam', loss='categorical_crossentropy', metrics=[\"acc\"])\n",
    "autoencoder_main.summary()\n",
    "fit = autoencoder_main.fit(x_train, y_train,\\\n",
    "               epochs=500,\\\n",
    "               batch_size=256,\\\n",
    "               shuffle=True,\\\n",
    "               #validation_data=(x_test, y_test),\\\n",
    "               validation_split=0.1, \\\n",
    "               verbose=0)\n",
    "result_train = autoencoder_main.evaluate(x_train, y_train, batch_size=32,verbose=0)\n",
    "result_test = autoencoder_main.evaluate(x_test, y_test, batch_size=32,verbose=0)\n",
    "print(result_train)\n",
    "print(result_test)\n",
    "\n",
    "model_main_name = str(model_dir) + \"/encoder_main.h5\"\n",
    "autoencoder_main.save(model_main_name)"
   ]
  },
  {
   "cell_type": "code",
   "execution_count": 437,
   "metadata": {},
   "outputs": [
    {
     "name": "stderr",
     "output_type": "stream",
     "text": [
      "/usr/local/lib/python3.6/site-packages/ipykernel_launcher.py:1: UserWarning: Update your `Model` call to the Keras 2 API: `Model(inputs=Tensor(\"in..., outputs=Tensor(\"en...)`\n",
      "  \"\"\"Entry point for launching an IPython kernel.\n"
     ]
    },
    {
     "name": "stdout",
     "output_type": "stream",
     "text": [
      "encoded_main data mean:  0.28209347\n",
      "[array([[ 0.31027654,  0.01866799,  0.02963032, ..., -0.16184582,\n",
      "        -0.2652243 ,  0.00696036],\n",
      "       [-0.3000321 , -0.5334167 , -0.96606493, ...,  0.45657772,\n",
      "        -0.3454704 , -0.98302114],\n",
      "       [ 0.26845813,  0.6089409 , -0.40045467, ...,  1.0575905 ,\n",
      "         0.6681178 , -0.6900339 ],\n",
      "       ...,\n",
      "       [ 0.16999954, -0.01692866, -0.24318428, ...,  0.19634783,\n",
      "         0.02536914, -0.18015309],\n",
      "       [-0.27923858, -1.2167945 ,  1.2083915 , ..., -0.15714212,\n",
      "         0.05724715,  0.02002099],\n",
      "       [-0.35121873, -0.03594176, -0.22839765, ..., -0.31163922,\n",
      "        -0.75310093, -1.2901999 ]], dtype=float32), array([-0.26843673, -0.25118244, -0.24797411, -0.3382082 , -0.22051048,\n",
      "       -0.17015487, -0.28925228, -0.27603093, -0.2843411 , -0.29204583,\n",
      "       -0.27417806, -0.23071198, -0.27451947, -0.24787991, -0.23392779,\n",
      "       -0.2261708 , -0.33978435, -0.21106097, -0.2837316 , -0.21779864,\n",
      "       -0.24100406, -0.21531782, -0.2647811 , -0.19060624, -0.23831324,\n",
      "       -0.27467483, -0.20864469, -0.23336913, -0.262181  , -0.29914215,\n",
      "       -0.19350608, -0.27040952, -0.23202592, -0.23639058, -0.29843044,\n",
      "       -0.22213185, -0.18437932, -0.25748384, -0.25302443, -0.2464284 ,\n",
      "       -0.23916951, -0.30344746, -0.21868435, -0.23644981, -0.24681574,\n",
      "       -0.2550307 , -0.14228706, -0.24346222, -0.29536054, -0.28578702,\n",
      "       -0.21685661, -0.2802167 , -0.24753788, -0.22830649, -0.23109677,\n",
      "       -0.34987321, -0.2714881 , -0.21392624, -0.17261492, -0.24722658,\n",
      "       -0.20497431, -0.23745751, -0.21214022, -0.22704555, -0.24651197,\n",
      "       -0.24922235, -0.228131  , -0.27575663, -0.24593356, -0.2806151 ,\n",
      "       -0.22664139, -0.2963634 , -0.27524108, -0.29843706, -0.25587925,\n",
      "       -0.27001396, -0.24627954, -0.18647261, -0.21526596, -0.1986907 ,\n",
      "       -0.26133868, -0.2930079 , -0.22069782, -0.27128813, -0.26291382,\n",
      "       -0.25600472, -0.2832705 , -0.24765122, -0.27027455, -0.20915031,\n",
      "       -0.26490924, -0.3033336 , -0.19515637, -0.21330029, -0.19241107,\n",
      "       -0.2175878 , -0.19321586, -0.24176437, -0.11998398, -0.32773712],\n",
      "      dtype=float32), array([[-0.2726334 , -0.16135621, -0.0234268 , ..., -0.10804533,\n",
      "         0.14532268,  0.01338017],\n",
      "       [-0.23400259,  0.11212421,  0.10524387, ..., -0.09688411,\n",
      "        -0.24605466,  0.0443359 ],\n",
      "       [-0.00098378, -0.49862805, -0.28688985, ..., -0.11002375,\n",
      "        -0.323577  ,  0.04524996],\n",
      "       ...,\n",
      "       [-0.18928614, -0.13349351, -0.12955713, ...,  0.16024043,\n",
      "        -0.21233724, -0.17344967],\n",
      "       [ 0.10474321,  0.14392665, -0.2712681 , ..., -0.20249647,\n",
      "        -0.3543234 , -0.01533858],\n",
      "       [ 0.15835956,  0.00293869, -0.02638806, ..., -0.11459808,\n",
      "        -0.04606137, -0.25569072]], dtype=float32), array([-0.03874594, -0.03845497, -0.07104301, -0.07319504, -0.01524206,\n",
      "       -0.06019734, -0.03595689, -0.0337969 , -0.03777045, -0.07247282,\n",
      "       -0.0595584 , -0.05817769, -0.03757428, -0.06176221, -0.08086675,\n",
      "       -0.04587715, -0.07086591, -0.04707865, -0.09282272, -0.03045434,\n",
      "       -0.05190678, -0.04717453, -0.02998321, -0.01723621, -0.05793884,\n",
      "       -0.02581647, -0.07851254, -0.01506927, -0.05774087, -0.04223461,\n",
      "       -0.02841645, -0.05661432, -0.01745819, -0.08192   , -0.03693746,\n",
      "       -0.0676305 , -0.0407401 , -0.01518861, -0.05307785, -0.06295586,\n",
      "       -0.07072268, -0.05459215, -0.01872204, -0.04394441, -0.04444434,\n",
      "       -0.07181072, -0.03078822, -0.09736895, -0.05535837, -0.06481173,\n",
      "       -0.01663309, -0.04845726, -0.05181148, -0.05009267, -0.02180156,\n",
      "       -0.02551632, -0.04130087, -0.04966952, -0.06436871, -0.00511855,\n",
      "       -0.07587894, -0.0466958 , -0.03699249, -0.0420641 , -0.05554368,\n",
      "        0.13982466, -0.06147862, -0.07871448, -0.05888701, -0.0516879 ,\n",
      "       -0.07042205, -0.07299078, -0.03724363,  0.00685414, -0.07456262,\n",
      "       -0.06650037, -0.05920777, -0.07749736, -0.06431345, -0.08311483,\n",
      "       -0.06340262, -0.05985974, -0.0372081 , -0.08016235, -0.05181266,\n",
      "       -0.03024136, -0.05348836, -0.0729281 , -0.05721332, -0.01360411,\n",
      "       -0.01533947, -0.04622883, -0.06956868, -0.03482268, -0.04122522,\n",
      "       -0.05915056, -0.0429254 , -0.06919838, -0.02313595, -0.06337045],\n",
      "      dtype=float32), array([[-0.12444672, -0.1506334 , -0.03856002, ..., -0.11039712,\n",
      "         0.1776955 ,  0.0473509 ],\n",
      "       [ 0.31866467,  0.4730609 ,  0.29461193, ...,  0.39416456,\n",
      "         0.13282388, -0.10986896],\n",
      "       [-0.14658801, -0.08191299, -0.23386803, ..., -0.08457375,\n",
      "         0.1460483 ,  0.19355321],\n",
      "       ...,\n",
      "       [-0.1589841 , -0.01903406, -0.17144263, ..., -0.10432008,\n",
      "        -0.04836086,  0.15482001],\n",
      "       [ 0.21689354,  0.10286636,  0.15980999, ...,  0.3035988 ,\n",
      "         0.17408526, -0.0165971 ],\n",
      "       [ 0.2380126 , -0.15673226,  0.0574453 , ..., -0.07853164,\n",
      "        -0.10402866, -0.17547461]], dtype=float32), array([-0.02966589, -0.03729747, -0.02140413, -0.02824988, -0.01049291,\n",
      "       -0.03195988, -0.08503897, -0.00587039, -0.02732839, -0.02340637,\n",
      "       -0.02770404, -0.04455858, -0.01132838, -0.03759279, -0.04093922,\n",
      "       -0.00905975, -0.00456416, -0.03736098, -0.02798747, -0.0090091 ,\n",
      "       -0.04642432, -0.04699834, -0.04540302, -0.01063839, -0.02877832,\n",
      "       -0.02763514, -0.01686132, -0.03222872, -0.01240014, -0.0574263 ,\n",
      "       -0.02707106, -0.04423859, -0.01250738, -0.01709886, -0.09341793,\n",
      "       -0.02200189, -0.03262583, -0.0392131 , -0.00855619, -0.0100282 ,\n",
      "       -0.00996039, -0.0317069 , -0.04916131, -0.02669048, -0.02884839,\n",
      "       -0.04071594, -0.00277642, -0.01784221, -0.03379292, -0.02834553,\n",
      "       -0.0110745 , -0.04577567, -0.01744116, -0.03026826, -0.02658459,\n",
      "       -0.00853201, -0.08984537, -0.01085227, -0.01896136, -0.02093259,\n",
      "       -0.00951217, -0.01418459, -0.01407888, -0.02839005, -0.04003864,\n",
      "        0.17575787, -0.04150712, -0.04144797, -0.08168916, -0.03168897,\n",
      "       -0.02086198, -0.08252984, -0.03741537, -0.02211831, -0.00534643,\n",
      "       -0.01823401,  0.32415408, -0.08206332, -0.03276711, -0.01893183,\n",
      "       -0.02630462, -0.02177284, -0.03003669, -0.01380582, -0.03622182,\n",
      "       -0.01143486, -0.0305373 , -0.04020845, -0.04610768, -0.01218372,\n",
      "       -0.04120108, -0.03260298, -0.00620291, -0.03985368, -0.02155626,\n",
      "       -0.02085974, -0.0106614 , -0.01496605, -0.02552483, -0.00705181],\n",
      "      dtype=float32)]\n"
     ]
    }
   ],
   "source": [
    "encoder_main = Model(input=autoencoder_main.input, output=autoencoder_main.get_layer('encoded3').output)\n",
    "encoded_main_data = encoder_main.predict(x_test)\n",
    "\n",
    "#print(encoded_main_data)\n",
    "print(\"encoded_main data mean: \", encoded_main_data.mean())\n",
    "#print(encoder_main.get_weights())\n",
    "\n",
    "encoded_main_train = encoder_main.predict(x_train)\n",
    "encoded_main_test = encoder_main.predict(x_test)"
   ]
  },
  {
   "cell_type": "code",
   "execution_count": 436,
   "metadata": {},
   "outputs": [
    {
     "name": "stdout",
     "output_type": "stream",
     "text": [
      "0.9903381642512077\n",
      "0.8695652173913043\n"
     ]
    }
   ],
   "source": [
    "# make Decision Tree from hidden layer output\n",
    "clf = tree.DecisionTreeClassifier(presort=True)\n",
    "clf = clf.fit(encoded_main_train, y_train)\n",
    "predict_tree_train = clf.predict(encoded_main_train)\n",
    "predict_tree_test = clf.predict(encoded_main_test)\n",
    "acc_tree_train = accuracy_score(y_train, predict_tree_train)\n",
    "acc_tree_test = accuracy_score(y_test, predict_tree_test)\n",
    "print(acc_tree_train)\n",
    "print(acc_tree_test)"
   ]
  },
  {
   "cell_type": "code",
   "execution_count": 415,
   "metadata": {},
   "outputs": [
    {
     "name": "stdout",
     "output_type": "stream",
     "text": [
      "33\n"
     ]
    }
   ],
   "source": [
    "node = clf.tree_.feature\n",
    "node_num = len(node)\n",
    "print(node_num)"
   ]
  },
  {
   "cell_type": "code",
   "execution_count": 416,
   "metadata": {},
   "outputs": [
    {
     "name": "stdout",
     "output_type": "stream",
     "text": [
      "1.0\n",
      "0.8695652173913043\n"
     ]
    }
   ],
   "source": [
    "clf_raw = tree.DecisionTreeClassifier(presort=True)\n",
    "clf_raw = clf_raw.fit(x_train, y_train)\n",
    "predict_raw_train = clf_raw.predict(x_train)\n",
    "predict_raw_test = clf_raw.predict(x_test)\n",
    "acc_raw_train = accuracy_score(predict_raw_train, y_train)\n",
    "acc_raw_test = accuracy_score(predict_raw_test, y_test)\n",
    "print(acc_raw_train)\n",
    "print(acc_raw_test)"
   ]
  },
  {
   "cell_type": "code",
   "execution_count": 417,
   "metadata": {},
   "outputs": [
    {
     "name": "stdout",
     "output_type": "stream",
     "text": [
      "157\n"
     ]
    }
   ],
   "source": [
    "node_raw = clf_raw.tree_.feature\n",
    "node_raw_num = len(node_raw)\n",
    "print(node_raw_num)"
   ]
  },
  {
   "cell_type": "code",
   "execution_count": 357,
   "metadata": {},
   "outputs": [
    {
     "name": "stdout",
     "output_type": "stream",
     "text": [
      "(621, 14)\n",
      "(69, 14)\n",
      "(621, 2)\n",
      "(69, 2)\n"
     ]
    }
   ],
   "source": [
    "print(x_train.shape)\n",
    "print(x_test.shape)\n",
    "print(y_train.shape)\n",
    "print(y_test.shape)"
   ]
  },
  {
   "cell_type": "code",
   "execution_count": 389,
   "metadata": {},
   "outputs": [
    {
     "data": {
      "image/png": "[encoded data removed]",
      "text/plain": [
       "<Figure size 720x288 with 2 Axes>"
      ]
     },
     "metadata": {},
     "output_type": "display_data"
    }
   ],
   "source": [
    "# ----------------------------------------------\n",
    "# Some plots\n",
    "# ----------------------------------------------\n",
    "fig, (axL, axR) = plt.subplots(ncols=2, figsize=(10,4))\n",
    "\n",
    "# loss\n",
    "def plot_history_loss(fit):\n",
    "    # Plot the loss in the history\n",
    "    axL.plot(fit.history['loss'],label=\"loss for training\")\n",
    "    axL.plot(fit.history['val_loss'],label=\"loss for validation\")\n",
    "    axL.set_title('model loss')\n",
    "    axL.set_xlabel('epoch')\n",
    "    axL.set_ylabel('loss')\n",
    "    axL.legend(loc='upper right')\n",
    "\n",
    "# acc\n",
    "def plot_history_acc(fit):\n",
    "    # Plot the loss in the history\n",
    "    axR.plot(fit.history['acc'],label=\"acc for training\")\n",
    "    axR.plot(fit.history['val_acc'],label=\"acc for validation\")\n",
    "    axR.set_title('model accuracy')\n",
    "    axR.set_xlabel('epoch')\n",
    "    axR.set_ylabel('accuracy')\n",
    "    axR.legend(loc='upper right')\n",
    "\n",
    "plot_history_loss(fit)\n",
    "plot_history_acc(fit)\n",
    "plt.show()\n",
    "fig.savefig('./loss_cancer.png')\n",
    "plt.close()"
   ]
  },
  {
   "cell_type": "code",
   "execution_count": null,
   "metadata": {},
   "outputs": [],
   "source": []
  }
 ],
 "metadata": {
  "kernelspec": {
   "display_name": "Python 3",
   "language": "python",
   "name": "python3"
  },
  "language_info": {
   "codemirror_mode": {
    "name": "ipython",
    "version": 3
   },
   "file_extension": ".py",
   "mimetype": "text/x-python",
   "name": "python",
   "nbconvert_exporter": "python",
   "pygments_lexer": "ipython3",
   "version": "3.6.5"
  }
 },
 "nbformat": 4,
 "nbformat_minor": 2
}
